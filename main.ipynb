{
 "cells": [
  {
   "cell_type": "code",
   "execution_count": null,
   "id": "5d1b03e2-9f5b-40ca-829a-b507ddbc55c3",
   "metadata": {},
   "outputs": [],
   "source": [
    "import logging\n",
    "from data import first_data_handle, products_with_sales, create_week_data, create_nn_data, pso_data\n",
    "from pso import optimize_prices\n",
    "from neural_network import nn_testing\n",
    "\n",
    "# Configure logging\n",
    "logging.basicConfig(level=logging.INFO, format='%(asctime)s - %(levelname)s - %(message)s')\n",
    "\n",
    "def main():\n",
    "    try:\n",
    "        logging.info(\"Starting data preprocessing...\")\n",
    "        # Data preprocessing\n",
    "        first_data_handle()\n",
    "        products_with_sales()\n",
    "        create_week_data()\n",
    "        create_nn_data()\n",
    "        pso_data()\n",
    "        logging.info(\"Data preprocessing completed.\")\n",
    "\n",
    "        logging.info(\"Testing the neural network...\")\n",
    "        # Test the neural network\n",
    "        nn_testing()\n",
    "        logging.info(\"Neural network testing completed.\")\n",
    "\n",
    "        logging.info(\"Optimizing prices using particle swarm optimization...\")\n",
    "        # Optimize prices using particle swarm optimization\n",
    "        optimize_prices()\n",
    "        logging.info(\"Price optimization completed.\")\n",
    "\n",
    "    except Exception as e:\n",
    "        logging.error(f\"An error occurred: {e}\", exc_info=True)\n",
    "\n",
    "if __name__ == \"__main__\":\n",
    "    main()\n"
   ]
  }
 ],
 "metadata": {
  "kernelspec": {
   "display_name": "Python 3 (ipykernel)",
   "language": "python",
   "name": "python3"
  },
  "language_info": {
   "codemirror_mode": {
    "name": "ipython",
    "version": 3
   },
   "file_extension": ".py",
   "mimetype": "text/x-python",
   "name": "python",
   "nbconvert_exporter": "python",
   "pygments_lexer": "ipython3",
   "version": "3.10.0"
  }
 },
 "nbformat": 4,
 "nbformat_minor": 5
}
